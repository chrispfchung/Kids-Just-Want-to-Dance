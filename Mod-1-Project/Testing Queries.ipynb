{
 "cells": [
  {
   "cell_type": "code",
   "execution_count": 23,
   "metadata": {},
   "outputs": [],
   "source": [
    "from dashpackage.models import Concert, Artist, Genre, Venue\n",
    "from dashpackage import db\n",
    "from sqlalchemy import func\n",
    "import plotly.graph_objs as go\n",
    "import plotly.plotly as py\n",
    "from dashpackage.routes import *"
   ]
  },
  {
   "cell_type": "code",
   "execution_count": 18,
   "metadata": {},
   "outputs": [
    {
     "name": "stdout",
     "output_type": "stream",
     "text": [
      "2018-11-14 10:28:54,459 INFO sqlalchemy.engine.base.Engine SELECT genres.name AS genres_name, count(genres.name) AS count_1 \n",
      "FROM genres JOIN concerts ON genres.id = concerts.genre_id JOIN venues ON venues.id = concerts.venue_id \n",
      "WHERE venues.borough = ? GROUP BY genres.name\n",
      "2018-11-14 10:28:54,460 INFO sqlalchemy.engine.base.Engine ('Manhattan',)\n"
     ]
    }
   ],
   "source": [
    "abc =db.session.query(Genre.name, func.count(Genre.name)).join(Concert).join(Venue).group_by(Genre.name).filter(Venue.borough == \"Manhattan\").all()"
   ]
  },
  {
   "cell_type": "code",
   "execution_count": 19,
   "metadata": {},
   "outputs": [],
   "source": [
    "genres = []\n",
    "values = []\n",
    "for tuples in abc:\n",
    "    genres.append(tuples[0])\n",
    "    values.append(tuples[1])"
   ]
  },
  {
   "cell_type": "code",
   "execution_count": 21,
   "metadata": {},
   "outputs": [
    {
     "data": {
      "text/plain": [
       "['Alternative',\n",
       " 'Blues & Jazz',\n",
       " 'Classical',\n",
       " 'Country',\n",
       " 'Cultural',\n",
       " 'Dance/Electronic',\n",
       " 'Folk',\n",
       " 'Hip-Hop/Rap',\n",
       " 'Indie',\n",
       " 'Latin',\n",
       " 'Metal',\n",
       " 'Opera',\n",
       " 'Other',\n",
       " 'Pop',\n",
       " 'R&B',\n",
       " 'Reggae',\n",
       " 'Religious',\n",
       " 'Rock',\n",
       " 'World']"
      ]
     },
     "execution_count": 21,
     "metadata": {},
     "output_type": "execute_result"
    }
   ],
   "source": [
    "\n"
   ]
  },
  {
   "cell_type": "code",
   "execution_count": 29,
   "metadata": {},
   "outputs": [
    {
     "name": "stdout",
     "output_type": "stream",
     "text": [
      "2018-11-14 10:47:02,045 INFO sqlalchemy.engine.base.Engine SELECT genres.name AS genres_name, count(genres.name) AS count_1 \n",
      "FROM genres JOIN concerts ON genres.id = concerts.genre_id JOIN venues ON venues.id = concerts.venue_id \n",
      "WHERE venues.borough = ? GROUP BY genres.name\n",
      "2018-11-14 10:47:02,046 INFO sqlalchemy.engine.base.Engine ('Manhattan',)\n"
     ]
    },
    {
     "data": {
      "text/plain": [
       "[('Alternative', 6),\n",
       " ('Blues & Jazz', 447),\n",
       " ('Classical', 93),\n",
       " ('Country', 18),\n",
       " ('Cultural', 6),\n",
       " ('Dance/Electronic', 38),\n",
       " ('Folk', 16),\n",
       " ('Hip-Hop/Rap', 174),\n",
       " ('Indie', 9),\n",
       " ('Latin', 45),\n",
       " ('Metal', 19),\n",
       " ('Opera', 13),\n",
       " ('Other', 73),\n",
       " ('Pop', 109),\n",
       " ('R&B', 78),\n",
       " ('Reggae', 22),\n",
       " ('Religious', 33),\n",
       " ('Rock', 342),\n",
       " ('World', 32)]"
      ]
     },
     "execution_count": 29,
     "metadata": {},
     "output_type": "execute_result"
    }
   ],
   "source": [
    "from plotly import __version__\n",
    "from plotly.offline import download_plotlyjs, init_notebook_mode, plot, iplot\n",
    "top_genres_borough(\"Manhattan\")"
   ]
  },
  {
   "cell_type": "code",
   "execution_count": 30,
   "metadata": {},
   "outputs": [
    {
     "ename": "InvalidRequestError",
     "evalue": "Can't join table/selectable 'venues' to itself",
     "output_type": "error",
     "traceback": [
      "\u001b[0;31m---------------------------------------------------------------------------\u001b[0m",
      "\u001b[0;31mInvalidRequestError\u001b[0m                       Traceback (most recent call last)",
      "\u001b[0;32m<ipython-input-30-b9c33e61972e>\u001b[0m in \u001b[0;36m<module>\u001b[0;34m()\u001b[0m\n\u001b[0;32m----> 1\u001b[0;31m \u001b[0mdb\u001b[0m\u001b[0;34m.\u001b[0m\u001b[0msession\u001b[0m\u001b[0;34m.\u001b[0m\u001b[0mquery\u001b[0m\u001b[0;34m(\u001b[0m\u001b[0mVenue\u001b[0m\u001b[0;34m.\u001b[0m\u001b[0mneighborhood\u001b[0m\u001b[0;34m,\u001b[0m \u001b[0mfunc\u001b[0m\u001b[0;34m.\u001b[0m\u001b[0mavg\u001b[0m\u001b[0;34m(\u001b[0m\u001b[0mConcert\u001b[0m\u001b[0;34m.\u001b[0m\u001b[0mminimum_price\u001b[0m\u001b[0;34m)\u001b[0m\u001b[0;34m)\u001b[0m\u001b[0;34m.\u001b[0m\u001b[0mjoin\u001b[0m\u001b[0;34m(\u001b[0m\u001b[0mVenue\u001b[0m\u001b[0;34m)\u001b[0m\u001b[0;34m.\u001b[0m\u001b[0mfilter\u001b[0m\u001b[0;34m(\u001b[0m\u001b[0mVenue\u001b[0m\u001b[0;34m.\u001b[0m\u001b[0mneighborhood\u001b[0m \u001b[0;34m==\u001b[0m \u001b[0mneighborhood\u001b[0m\u001b[0;34m)\u001b[0m\u001b[0;34m.\u001b[0m\u001b[0mfirst\u001b[0m\u001b[0;34m(\u001b[0m\u001b[0;34m)\u001b[0m\u001b[0;34m\u001b[0m\u001b[0m\n\u001b[0m",
      "\u001b[0;32m~/anaconda3/lib/python3.6/site-packages/sqlalchemy/orm/query.py\u001b[0m in \u001b[0;36mjoin\u001b[0;34m(self, *props, **kwargs)\u001b[0m\n\u001b[1;32m   2078\u001b[0m                           \u001b[0mouterjoin\u001b[0m\u001b[0;34m=\u001b[0m\u001b[0misouter\u001b[0m\u001b[0;34m,\u001b[0m \u001b[0mfull\u001b[0m\u001b[0;34m=\u001b[0m\u001b[0mfull\u001b[0m\u001b[0;34m,\u001b[0m\u001b[0;34m\u001b[0m\u001b[0m\n\u001b[1;32m   2079\u001b[0m                           \u001b[0mcreate_aliases\u001b[0m\u001b[0;34m=\u001b[0m\u001b[0maliased\u001b[0m\u001b[0;34m,\u001b[0m\u001b[0;34m\u001b[0m\u001b[0m\n\u001b[0;32m-> 2080\u001b[0;31m                           from_joinpoint=from_joinpoint)\n\u001b[0m\u001b[1;32m   2081\u001b[0m \u001b[0;34m\u001b[0m\u001b[0m\n\u001b[1;32m   2082\u001b[0m     \u001b[0;32mdef\u001b[0m \u001b[0mouterjoin\u001b[0m\u001b[0;34m(\u001b[0m\u001b[0mself\u001b[0m\u001b[0;34m,\u001b[0m \u001b[0;34m*\u001b[0m\u001b[0mprops\u001b[0m\u001b[0;34m,\u001b[0m \u001b[0;34m**\u001b[0m\u001b[0mkwargs\u001b[0m\u001b[0;34m)\u001b[0m\u001b[0;34m:\u001b[0m\u001b[0;34m\u001b[0m\u001b[0m\n",
      "\u001b[0;32m<string>\u001b[0m in \u001b[0;36m_join\u001b[0;34m(self, keys, outerjoin, full, create_aliases, from_joinpoint)\u001b[0m\n",
      "\u001b[0;32m~/anaconda3/lib/python3.6/site-packages/sqlalchemy/orm/base.py\u001b[0m in \u001b[0;36mgenerate\u001b[0;34m(fn, *args, **kw)\u001b[0m\n\u001b[1;32m    199\u001b[0m         \u001b[0;32mfor\u001b[0m \u001b[0massertion\u001b[0m \u001b[0;32min\u001b[0m \u001b[0massertions\u001b[0m\u001b[0;34m:\u001b[0m\u001b[0;34m\u001b[0m\u001b[0m\n\u001b[1;32m    200\u001b[0m             \u001b[0massertion\u001b[0m\u001b[0;34m(\u001b[0m\u001b[0mself\u001b[0m\u001b[0;34m,\u001b[0m \u001b[0mfn\u001b[0m\u001b[0;34m.\u001b[0m\u001b[0m__name__\u001b[0m\u001b[0;34m)\u001b[0m\u001b[0;34m\u001b[0m\u001b[0m\n\u001b[0;32m--> 201\u001b[0;31m         \u001b[0mfn\u001b[0m\u001b[0;34m(\u001b[0m\u001b[0mself\u001b[0m\u001b[0;34m,\u001b[0m \u001b[0;34m*\u001b[0m\u001b[0margs\u001b[0m\u001b[0;34m[\u001b[0m\u001b[0;36m1\u001b[0m\u001b[0;34m:\u001b[0m\u001b[0;34m]\u001b[0m\u001b[0;34m,\u001b[0m \u001b[0;34m**\u001b[0m\u001b[0mkw\u001b[0m\u001b[0;34m)\u001b[0m\u001b[0;34m\u001b[0m\u001b[0m\n\u001b[0m\u001b[1;32m    202\u001b[0m         \u001b[0;32mreturn\u001b[0m \u001b[0mself\u001b[0m\u001b[0;34m\u001b[0m\u001b[0m\n\u001b[1;32m    203\u001b[0m     \u001b[0;32mreturn\u001b[0m \u001b[0mgenerate\u001b[0m\u001b[0;34m\u001b[0m\u001b[0m\n",
      "\u001b[0;32m~/anaconda3/lib/python3.6/site-packages/sqlalchemy/orm/query.py\u001b[0m in \u001b[0;36m_join\u001b[0;34m(self, keys, outerjoin, full, create_aliases, from_joinpoint)\u001b[0m\n\u001b[1;32m   2222\u001b[0m                 \u001b[0mleft_entity\u001b[0m\u001b[0;34m,\u001b[0m\u001b[0;34m\u001b[0m\u001b[0m\n\u001b[1;32m   2223\u001b[0m                 \u001b[0mright_entity\u001b[0m\u001b[0;34m,\u001b[0m \u001b[0monclause\u001b[0m\u001b[0;34m,\u001b[0m\u001b[0;34m\u001b[0m\u001b[0m\n\u001b[0;32m-> 2224\u001b[0;31m                 outerjoin, full, create_aliases, prop)\n\u001b[0m\u001b[1;32m   2225\u001b[0m \u001b[0;34m\u001b[0m\u001b[0m\n\u001b[1;32m   2226\u001b[0m     def _join_left_to_right(self, left, right,\n",
      "\u001b[0;32m~/anaconda3/lib/python3.6/site-packages/sqlalchemy/orm/query.py\u001b[0m in \u001b[0;36m_join_left_to_right\u001b[0;34m(self, left, right, onclause, outerjoin, full, create_aliases, prop)\u001b[0m\n\u001b[1;32m   2278\u001b[0m             raise sa_exc.InvalidRequestError(\n\u001b[1;32m   2279\u001b[0m                 \u001b[0;34m\"Can't join table/selectable '%s' to itself\"\u001b[0m \u001b[0;34m%\u001b[0m\u001b[0;34m\u001b[0m\u001b[0m\n\u001b[0;32m-> 2280\u001b[0;31m                 l_info.selectable)\n\u001b[0m\u001b[1;32m   2281\u001b[0m \u001b[0;34m\u001b[0m\u001b[0m\n\u001b[1;32m   2282\u001b[0m         right, onclause = self._prepare_right_side(\n",
      "\u001b[0;31mInvalidRequestError\u001b[0m: Can't join table/selectable 'venues' to itself"
     ]
    }
   ],
   "source": [
    "db.session.query(Venue.neighborhood, func.avg(Concert.minimum_price)).join(Venue).filter(Venue.neighborhood == neighborhood).first()"
   ]
  },
  {
   "cell_type": "code",
   "execution_count": 34,
   "metadata": {},
   "outputs": [
    {
     "name": "stdout",
     "output_type": "stream",
     "text": [
      "2018-11-14 15:04:21,774 INFO sqlalchemy.engine.base.Engine SELECT venues.neighborhood AS venues_neighborhood, avg(concerts.minimum_price) AS avg_1 \n",
      "FROM venues JOIN concerts ON venues.id = concerts.venue_id \n",
      "WHERE venues.neighborhood IS NOT NULL GROUP BY venues.neighborhood\n",
      "2018-11-14 15:04:21,779 INFO sqlalchemy.engine.base.Engine ()\n"
     ]
    },
    {
     "data": {
      "text/plain": [
       "[('Bushwick and Williamsburg', 16.49089655172414),\n",
       " ('Central Brooklyn', 58.9171974522293),\n",
       " ('Central Harlem', 22.732558139534884),\n",
       " ('Chelsea and Clinton', 38.0459584295612),\n",
       " ('East New York and New Lots', 10.0),\n",
       " ('Flatbush', 40.05),\n",
       " ('Gramercy Park and Murray Hill', 27.67737430167598),\n",
       " ('Greenpoint', 15.634615384615385),\n",
       " ('Greenwich Village and Soho', 20.7225),\n",
       " ('High Bridge and Morrisania', 20.0),\n",
       " ('Hunts Point and Mott Haven', 20.0),\n",
       " ('Inwood and Washington Heights', 40.111111111111114),\n",
       " ('Lower East Side', 19.143286713286713),\n",
       " ('Lower Manhattan', 53.0),\n",
       " ('Northwest Brooklyn', 33.7195652173913),\n",
       " ('Northwest Queens', 33.785714285714285),\n",
       " ('Sunset Park', 11.25),\n",
       " ('Upper East Side', 118.57142857142857),\n",
       " ('Upper West Side', 45.353960396039604),\n",
       " ('West Central Queens', 15.0),\n",
       " ('West Queens', 15.894499999999999)]"
      ]
     },
     "execution_count": 34,
     "metadata": {},
     "output_type": "execute_result"
    }
   ],
   "source": [
    "db.session.query(Venue.neighborhood, func.avg(Concert.minimum_price)).join(Concert).group_by(Venue.neighborhood).filter(Venue.neighborhood != None).all()"
   ]
  },
  {
   "cell_type": "code",
   "execution_count": 35,
   "metadata": {},
   "outputs": [
    {
     "name": "stdout",
     "output_type": "stream",
     "text": [
      "2018-11-14 17:10:12,156 INFO sqlalchemy.engine.base.Engine SELECT venues.latitude AS venues_latitude, venues.longitude AS venues_longitude \n",
      "FROM venues JOIN concerts ON venues.id = concerts.venue_id \n",
      "WHERE concerts.minimum_price = ?\n",
      "2018-11-14 17:10:12,161 INFO sqlalchemy.engine.base.Engine (0,)\n"
     ]
    },
    {
     "data": {
      "text/plain": [
       "[(40.76497005, -73.99607813),\n",
       " (40.742333, -73.9837858),\n",
       " (40.742333, -73.9837858),\n",
       " (40.742333, -73.9837858),\n",
       " (40.742333, -73.9837858),\n",
       " (40.728333, -73.9822),\n",
       " (40.680406, -73.962379),\n",
       " (40.680362, -73.96241900000001),\n",
       " (40.718558, -73.98933299999999),\n",
       " (40.76401389999999, -73.99763740000003),\n",
       " (40.7532551, -73.98836240000003),\n",
       " (40.76401389999999, -73.99763740000003),\n",
       " (40.7640706, -73.9975569),\n",
       " (40.76401389999999, -73.99763740000003),\n",
       " (40.6749687, -73.97597810000002),\n",
       " (40.7394577, -73.88433409999999),\n",
       " (40.766805, -73.996215),\n",
       " (40.76401389999999, -73.99763740000003),\n",
       " (40.76401389999999, -73.99763740000003),\n",
       " (40.766805, -73.996215),\n",
       " (40.7291916, -74.00079419999997),\n",
       " (40.680406, -73.962379),\n",
       " (40.74107300000001, -73.99293),\n",
       " (40.8175043, -73.95140750000002),\n",
       " (40.76401389999999, -73.99763740000003),\n",
       " (40.749605, -73.98301320000002),\n",
       " (40.7394577, -73.88433409999999),\n",
       " (40.74862999999999, -73.86993000000001),\n",
       " (40.7394577, -73.88433409999999),\n",
       " (40.7851519, -73.97571670000002),\n",
       " (40.74107300000001, -73.99293),\n",
       " (40.7666757, -73.99622999999997),\n",
       " (40.6825611, -73.96569929999998),\n",
       " (40.80988969999999, -73.9430911),\n",
       " (40.7559705, -73.92105179999999),\n",
       " (40.7264453, -73.9520197),\n",
       " (40.766805, -73.996215),\n",
       " (40.766805, -73.996215),\n",
       " (40.822211, -73.94599299999999),\n",
       " (40.822211, -73.94599299999999),\n",
       " (40.759487, -73.97108700000001),\n",
       " (40.76401389999999, -73.99763740000003),\n",
       " (40.76401389999999, -73.99763740000003),\n",
       " (40.7394577, -73.88433409999999),\n",
       " (40.7073436, -73.95413150000002),\n",
       " (40.7099556, -73.96271669999999),\n",
       " (40.75606179999999, -73.99734799999999),\n",
       " (40.76401389999999, -73.99763740000003),\n",
       " (40.76401389999999, -73.99763740000003),\n",
       " (40.7217244, -73.9932124),\n",
       " (40.7259185, -73.9839725),\n",
       " (40.7666757, -73.99622999999997),\n",
       " (40.76401389999999, -73.99763740000003),\n",
       " (40.728369, -73.99917629999999),\n",
       " (40.65017299999999, -73.95501200000001),\n",
       " (40.8044337, -73.95592340000002),\n",
       " (40.766805, -73.996215),\n",
       " (40.7421872, -74.00382139999999),\n",
       " (40.74107300000001, -73.99293),\n",
       " (40.766805, -73.996215),\n",
       " (40.80988969999999, -73.9430911),\n",
       " (40.7559705, -73.92105179999999),\n",
       " (40.80988969999999, -73.9430911),\n",
       " (40.7217244, -73.9932124),\n",
       " (40.766805, -73.996215),\n",
       " (40.766805, -73.996215),\n",
       " (40.7559705, -73.92105179999999),\n",
       " (40.76401389999999, -73.99763740000003),\n",
       " (40.7496106, -73.98293050000001),\n",
       " (40.766805, -73.996215),\n",
       " (40.7576542, -73.98340889999997),\n",
       " (40.711123, -73.96635800000001),\n",
       " (40.80988969999999, -73.9430911),\n",
       " (40.80988969999999, -73.9430911),\n",
       " (40.76401389999999, -73.99763740000003),\n",
       " (40.68051869999999, -73.96237459999998),\n",
       " (40.7496106, -73.98293050000001),\n",
       " (40.7743088, -73.98390970000003),\n",
       " (40.80988969999999, -73.9430911),\n",
       " (40.671206, -73.96363100000002),\n",
       " (40.7394577, -73.88433409999999),\n",
       " (40.76401389999999, -73.99763740000003),\n",
       " (40.76401389999999, -73.99763740000003),\n",
       " (40.7394577, -73.88433409999999),\n",
       " (40.741072, -73.99293),\n",
       " (40.759487, -73.97108700000001),\n",
       " (40.7532456, -73.9884639),\n",
       " (40.76401389999999, -73.99763740000003),\n",
       " (40.766805, -73.996215),\n",
       " (40.7533, -73.9884),\n",
       " (40.7616616, -73.98656310000001),\n",
       " (40.766805, -73.996215),\n",
       " (40.76401389999999, -73.99763740000003),\n",
       " (40.749605, -73.98301320000002),\n",
       " (40.678322, -73.95842300000004),\n",
       " (40.7217244, -73.9932124),\n",
       " (40.7532456, -73.9884639),\n",
       " (40.76401389999999, -73.99763740000003),\n",
       " (40.766805, -73.996215),\n",
       " (40.77565269999999, -73.98131769999998),\n",
       " (40.766805, -73.996215),\n",
       " (40.678322, -73.95842300000004),\n",
       " (40.72276830000001, -73.99446239999997),\n",
       " (40.8218724, -73.94036779999999),\n",
       " (40.753615, -73.99204199999997),\n",
       " (40.680362, -73.96241900000001),\n",
       " (40.678097, -73.93883570000003),\n",
       " (40.7217244, -73.9932124),\n",
       " (40.7217244, -73.9932124),\n",
       " (40.74107300000001, -73.99293),\n",
       " (40.74107300000001, -73.99293),\n",
       " (40.759487, -73.97108700000001),\n",
       " (40.7138256, -73.93409919999999),\n",
       " (40.7291916, -74.00079419999997),\n",
       " (40.7532456, -73.9884639),\n",
       " (40.68051869999999, -73.96237459999998),\n",
       " (40.7939625, -73.9728154),\n",
       " (40.72921710000001, -74.0112972),\n",
       " (40.7142193, -73.9558328),\n",
       " (40.7217244, -73.9932124),\n",
       " (40.76401389999999, -73.99763740000003),\n",
       " (40.7138256, -73.93409919999999),\n",
       " (40.7532456, -73.9884639),\n",
       " (40.7214414, -73.99317830000001),\n",
       " (40.76401389999999, -73.99763740000003),\n",
       " (40.7214414, -73.99317830000001),\n",
       " (40.7532551, -73.98836240000003),\n",
       " (40.7532551, -73.98836240000003),\n",
       " (40.7394577, -73.88433409999999),\n",
       " (40.7532551, -73.98836240000003),\n",
       " (40.72921710000001, -74.0112972),\n",
       " (40.72921710000001, -74.0112972),\n",
       " (40.7138256, -73.93409919999999),\n",
       " (40.7640706, -73.9975569),\n",
       " (40.7138256, -73.93409919999999),\n",
       " (40.747773, -73.99336499999998),\n",
       " (40.7735004, -73.98460990000001),\n",
       " (40.7214414, -73.99317830000001),\n",
       " (40.76401389999999, -73.99763740000003),\n",
       " (40.76401389999999, -73.99763740000003),\n",
       " (40.65689769999999, -74.00205590000002),\n",
       " (40.6759631, -73.9844807),\n",
       " (40.7559705, -73.92105179999999),\n",
       " (40.766805, -73.996215),\n",
       " (40.7640706, -73.9975569),\n",
       " (40.7532551, -73.98836240000003),\n",
       " (40.734666, -73.98876710000002),\n",
       " (40.734666, -73.98876710000002),\n",
       " (40.6703108, -73.93003479999999),\n",
       " (40.8012472, -73.94851269999998),\n",
       " (40.7741641, -73.98484259999998),\n",
       " (40.7735489, -73.98454989999999),\n",
       " (40.6759631, -73.9844807),\n",
       " (40.7395802, -74.00735829999996),\n",
       " (40.76401389999999, -73.99763740000003),\n",
       " (40.76401389999999, -73.99763740000003),\n",
       " (40.678322, -73.95842300000004),\n",
       " (40.74118170000001, -73.99319539999999),\n",
       " (40.74307, -74.005716),\n",
       " (40.7214414, -73.99317830000001),\n",
       " (40.680362, -73.96241900000001),\n",
       " (40.7347292, -73.99189360000003),\n",
       " (40.7689, -73.9129),\n",
       " (40.766805, -73.996215),\n",
       " (40.7666757, -73.99622999999997),\n",
       " (40.68051869999999, -73.96237459999998),\n",
       " (40.7552144, -73.98830850000002),\n",
       " (40.65689769999999, -74.00205590000002),\n",
       " (40.6759631, -73.9844807),\n",
       " (40.7111, -73.9664),\n",
       " (40.7188561, -73.99494219999997),\n",
       " (40.7214414, -73.99317830000001),\n",
       " (40.766805, -73.996215),\n",
       " (40.766805, -73.996215),\n",
       " (40.72921710000001, -74.0112972),\n",
       " (40.709373, -74.00832579999997),\n",
       " (40.7214414, -73.99317830000001),\n",
       " (40.7214414, -73.99317830000001),\n",
       " (40.7217244, -73.9932124),\n",
       " (40.680362, -73.96241900000001),\n",
       " (40.766805, -73.996215),\n",
       " (40.7138256, -73.93409919999999),\n",
       " (40.7214414, -73.99317830000001),\n",
       " (40.7532551, -73.98836240000003),\n",
       " (40.7394577, -73.88433409999999),\n",
       " (40.6803718, -73.96245090000002),\n",
       " (40.73451379999999, -73.99195950000001),\n",
       " (40.7147484, -73.99355609999998),\n",
       " (40.680362, -73.96241900000001),\n",
       " (40.6785007, -73.9833014)]"
      ]
     },
     "execution_count": 35,
     "metadata": {},
     "output_type": "execute_result"
    }
   ],
   "source": [
    "db.session.query(Venue.latitude, Venue.longitude).join(Concert).filter(Concert.minimum_price == 0).all()"
   ]
  },
  {
   "cell_type": "code",
   "execution_count": null,
   "metadata": {},
   "outputs": [],
   "source": []
  }
 ],
 "metadata": {
  "kernelspec": {
   "display_name": "Python 3",
   "language": "python",
   "name": "python3"
  },
  "language_info": {
   "codemirror_mode": {
    "name": "ipython",
    "version": 3
   },
   "file_extension": ".py",
   "mimetype": "text/x-python",
   "name": "python",
   "nbconvert_exporter": "python",
   "pygments_lexer": "ipython3",
   "version": "3.6.5"
  }
 },
 "nbformat": 4,
 "nbformat_minor": 2
}
